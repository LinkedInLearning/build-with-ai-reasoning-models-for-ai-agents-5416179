{
 "cells": [
  {
   "cell_type": "markdown",
   "id": "90a7ba74",
   "metadata": {},
   "source": [
    "## Problem\n",
    "George has seven pennies, a dime, and three quarters. Harriet has four pennies and four quarters. First, George gives Harriet thirty-one cents in exact change; then Harriet gives him back exactly half of her pennies. How much money does George now have?\n",
    "\n",
    "## Solution\n",
    "The only way George can give Harriet 31 cents is a quarter and 6 pennies.\n",
    "\n",
    "Then Harriet will have 10 pennies and give George 5.\n",
    "\n",
    "George will then have 1 penny + 1 dime + 2 quarters + 5 pennies = 1 + 10 + 50 + 5 = 66 cents"
   ]
  },
  {
   "cell_type": "code",
   "execution_count": null,
   "id": "b2703cbc",
   "metadata": {},
   "outputs": [],
   "source": [
    "from google import genai\n",
    "from google.genai import types\n",
    "\n",
    "client = genai.Client()"
   ]
  },
  {
   "cell_type": "code",
   "execution_count": null,
   "id": "402e3711",
   "metadata": {},
   "outputs": [
    {
     "name": "stdout",
     "output_type": "stream",
     "text": [
      "Here's how to break down the transactions:\n",
      "\n",
      "1. **George's starting amount:**\n",
      "* Pennies: 7 * $0.01 = $0.07\n",
      "* Dime: 1 * $0.10 = $0.10\n",
      "* Quarters: 3 * $0.25 = $0.75\n",
      "* Total: $0.07 + $0.10 + $0.75 = $0.92\n",
      "\n",
      "2. **Harriet's starting amount:**\n",
      "* Pennies: 4 * $0.01 = $0.04\n",
      "* Quarters: 4 * $0.25 = $1.00\n",
      "* Total: $0.04 + $1.00 = $1.04\n",
      "\n",
      "3. **George gives Harriet $0.31:**  George's total decreases by $0.31, becoming $0.92 - $0.31 = $0.61.  Harriet's total increases by $0.31, becoming $1.04 + $0.31 = $1.35.\n",
      "\n",
      "4. **Harriet gives George half her pennies:**  Half of Harriet's pennies is 4 / 2 = 2 pennies, which is worth 2 * $0.01 = $0.02. Harriet's total decreases by $0.02, becoming $1.35 - $0.02 = $1.33. George's total increases by $0.02, becoming $0.61 + $0.02 = $0.63.\n",
      "\n",
      "Therefore, George now has $\\boxed{$0.63}$.\n",
      "\n"
     ]
    }
   ],
   "source": [
    "# gemini 1.5 is not a reasoning model\n",
    "response = client.models.generate_content(\n",
    "    model=\"gemini-1.5-pro\",\n",
    "    contents=\"George has seven pennies, a dime, and three quarters. Harriet has four pennies and four quarters. First, George gives Harriet thirty-one cents in exact change; then Harriet gives him back exactly half of her pennies. How much money does George now have?\",\n",
    ")\n",
    "print(response.text)"
   ]
  },
  {
   "cell_type": "code",
   "execution_count": null,
   "id": "4868deeb",
   "metadata": {},
   "outputs": [
    {
     "name": "stdout",
     "output_type": "stream",
     "text": [
      "Let's break down the money each person has and the transactions.\n",
      "\n",
      "**1. Initial Money:**\n",
      "\n",
      "*   **George:**\n",
      "    *   Seven pennies: 7 * $0.01 = $0.07\n",
      "    *   A dime: 1 * $0.10 = $0.10\n",
      "    *   Three quarters: 3 * $0.25 = $0.75\n",
      "    *   **George's total initial money:** $0.07 + $0.10 + $0.75 = $0.92\n",
      "\n",
      "*   **Harriet:**\n",
      "    *   Four pennies: 4 * $0.01 = $0.04\n",
      "    *   Four quarters: 4 * $0.25 = $1.00\n",
      "    *   **Harriet's total initial money:** $0.04 + $1.00 = $1.04\n",
      "\n",
      "**2. First Transaction: George gives Harriet thirty-one cents.**\n",
      "\n",
      "*   **George's money after giving 31 cents:**\n",
      "    *   $0.92 - $0.31 = $0.61\n",
      "\n",
      "*   **Harriet's money after receiving 31 cents:**\n",
      "    *   $1.04 + $0.31 = $1.35\n",
      "\n",
      "*   **Important for the next step: Harriet's pennies.**\n",
      "    George needs to give Harriet 31 cents in exact change. George initially has 7 pennies. A common way to make 31 cents with coins George possesses is one quarter ($0.25) and six pennies ($0.06).\n",
      "    *   Harriet started with 4 pennies.\n",
      "    *   She received 6 pennies from George (assuming he used pennies for the 6 cents part of the 31 cents).\n",
      "    *   **Harriet now has:** 4 (original) + 6 (from George) = 10 pennies.\n",
      "\n",
      "**3. Second Transaction: Harriet gives George back exactly half of her pennies.**\n",
      "\n",
      "*   Harriet has 10 pennies.\n",
      "*   Half of her pennies is 10 / 2 = 5 pennies.\n",
      "*   Value of 5 pennies = 5 * $0.01 = $0.05.\n",
      "\n",
      "*   **George's money after receiving 5 pennies from Harriet:**\n",
      "    *   He had $0.61 (after the first transaction).\n",
      "    *   He receives $0.05 from Harriet.\n",
      "    *   $0.61 + $0.05 = $0.66\n",
      "\n",
      "George now has **$0.66**.\n"
     ]
    }
   ],
   "source": [
    "# gemini 2.5 is a reasoning model\n",
    "response = client.models.generate_content(\n",
    "    model=\"gemini-2.5-flash\",\n",
    "    contents=\"George has seven pennies, a dime, and three quarters. Harriet has four pennies and four quarters. First, George gives Harriet thirty-one cents in exact change; then Harriet gives him back exactly half of her pennies. How much money does George now have?\",\n",
    ")\n",
    "print(response.text)"
   ]
  },
  {
   "cell_type": "code",
   "execution_count": null,
   "id": "93d7f28e",
   "metadata": {},
   "outputs": [],
   "source": []
  }
 ],
 "metadata": {
  "kernelspec": {
   "display_name": "reasoning (3.12.3)",
   "language": "python",
   "name": "python3"
  },
  "language_info": {
   "codemirror_mode": {
    "name": "ipython",
    "version": 3
   },
   "file_extension": ".py",
   "mimetype": "text/x-python",
   "name": "python",
   "nbconvert_exporter": "python",
   "pygments_lexer": "ipython3",
   "version": "3.12.3"
  }
 },
 "nbformat": 4,
 "nbformat_minor": 5
}
