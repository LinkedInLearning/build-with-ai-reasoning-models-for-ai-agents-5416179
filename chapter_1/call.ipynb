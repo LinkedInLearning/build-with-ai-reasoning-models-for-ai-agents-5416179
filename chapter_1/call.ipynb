{
 "cells": [
  {
   "cell_type": "markdown",
   "id": "90a7ba74",
   "metadata": {},
   "source": [
    "## Setup\n",
    "Try to have two different models, one non-reasoning and one reasoning, to solve the same problem that requires some common sense reasoning.\n",
    "\n",
    "## Problem\n",
    "Tony has 6 1/10th pieces, 1 1/4th piece, and 3 1/2 pieces of pie. Janice has 4 1/10th pieces, 2 1/4th pieces, and 2 1/2 pieces of pie. Tony gives Janice exactly 3/5th of a pie. Janice then takes all of the 1/10th pieces she has and gives them to Tony. How much pie does Tony have now?\n",
    "\n",
    "## Solution\n"
   ]
  },
  {
   "cell_type": "code",
   "execution_count": 1,
   "id": "b2703cbc",
   "metadata": {},
   "outputs": [],
   "source": [
    "from google import genai\n",
    "from google.genai import types\n",
    "\n",
    "client = genai.Client()"
   ]
  },
  {
   "cell_type": "code",
   "execution_count": 9,
   "id": "402e3711",
   "metadata": {},
   "outputs": [
    {
     "name": "stdout",
     "output_type": "stream",
     "text": [
      "Here's how to solve this problem step-by-step:\n",
      "\n",
      "1. **Calculate Tony's initial total:**\n",
      "   * 6 1/10 = 61/10\n",
      "   * 1 1/4 = 5/4\n",
      "   * 3 1/2 = 7/2\n",
      "   * Common denominator: 20\n",
      "   * (122/20) + (25/20) + (70/20) = 217/20 pieces\n",
      "\n",
      "2. **Calculate Janice's initial total:**\n",
      "   * 4 1/10 = 41/10\n",
      "   * 2 1/4 = 9/4\n",
      "   * 2 1/2 = 5/2\n",
      "   * Common denominator: 20\n",
      "   * (82/20) + (45/20) + (50/20) = 177/20 pieces\n",
      "\n",
      "3. **Tony gives Janice 3/5 of a pie:**\n",
      "   * 3/5 = 12/20\n",
      "   * Tony's new total: 217/20 - 12/20 = 205/20\n",
      "   * Janice's new total: 177/20 + 12/20 = 189/20\n",
      "\n",
      "4. **Janice gives Tony her 1/10th pieces:**\n",
      "   * Janice had 4 1/10th pieces, which is 41/10 = 82/20\n",
      "   * Notice Janice had 189/20 = (177/20) + (12/20), these were all in 1/4s and 1/2s before Tony's last gift\n",
      "   * So, from 189/20 = 9+9/20, Janice only has four 1/10 pieces = 4/10 * 2 = 8/20. This can also be expressed as 82/20 which she had at the start.\n",
      "   * Tony's new total: 205/20 + 8/20= 213/20 pieces\n",
      "\n",
      "5. **Simplify Tony's final total:**\n",
      "   * 213/20 = 10 13/20 pieces\n",
      "\n",
      "Therefore, Tony has $\\boxed{10\\frac{13}{20}}$ pieces of pie.\n",
      "\n"
     ]
    }
   ],
   "source": [
    "# gemini 1.5 is not a reasoning model\n",
    "response = client.models.generate_content(\n",
    "    model=\"gemini-1.5-pro\",\n",
    "    contents=\"Tony has 6 1/10th pieces, 1 1/4th piece, and 3 1/2 pieces of pie. Janice has 4 1/10th pieces, 2 1/4th pieces, and 2 1/2 pieces of pie. Tony gives Janice exactly 3/5th of a pie. Janice then takes all of the 1/10th pieces she has and gives them to Tony. How much pie does Tony have now?\",\n",
    ")\n",
    "print(response.text)"
   ]
  },
  {
   "cell_type": "code",
   "execution_count": 10,
   "id": "4868deeb",
   "metadata": {},
   "outputs": [
    {
     "name": "stdout",
     "output_type": "stream",
     "text": [
      "Let's calculate Tony's initial amount of pie, then track the changes.\n",
      "\n",
      "First, let's understand the phrasing \"6 1/10th pieces\". This usually means 6 pieces, each of which is 1/10th of a pie. So, 6/10 of a pie.\n",
      "Similarly:\n",
      "*   \"1 1/4th piece\" means 1 piece of 1/4th, which is 1/4 of a pie.\n",
      "*   \"3 1/2 pieces\" means 3 pieces of 1/2, which is 3/2 of a pie.\n",
      "\n",
      "Let's sum Tony's and Janice's initial amounts:\n",
      "\n",
      "**Tony's Initial Pie:**\n",
      "*   6 pieces of 1/10 = 6/10\n",
      "*   1 piece of 1/4 = 1/4\n",
      "*   3 pieces of 1/2 = 3/2\n",
      "To add these, find a common denominator, which is 20:\n",
      "*   6/10 = 12/20\n",
      "*   1/4 = 5/20\n",
      "*   3/2 = 30/20\n",
      "Tony's total initial pie = 12/20 + 5/20 + 30/20 = **47/20** pieces.\n",
      "\n",
      "**Janice's Initial Pie:**\n",
      "*   4 pieces of 1/10 = 4/10\n",
      "*   2 pieces of 1/4 = 2/4\n",
      "*   2 pieces of 1/2 = 2/2\n",
      "To add these, find a common denominator, which is 20:\n",
      "*   4/10 = 8/20\n",
      "*   2/4 = 10/20\n",
      "*   2/2 = 20/20\n",
      "Janice's total initial pie = 8/20 + 10/20 + 20/20 = **38/20** pieces.\n",
      "\n",
      "---\n",
      "\n",
      "**Step 1: Tony gives Janice exactly 3/5th of a pie.**\n",
      "Convert 3/5 to 20ths: 3/5 = 12/20.\n",
      "\n",
      "*   **Tony's pie after this step:**\n",
      "    *   47/20 - 12/20 = **35/20** pieces.\n",
      "\n",
      "*   **Janice's pie after this step:**\n",
      "    *   38/20 + 12/20 = **50/20** pieces.\n",
      "\n",
      "---\n",
      "\n",
      "**Step 2: Janice then takes all of the 1/10th pieces she has and gives them to Tony.**\n",
      "From the initial breakdown, Janice had \"4 1/10th pieces\", which means 4/10 of a pie.\n",
      "Convert 4/10 to 20ths: 4/10 = 8/20.\n",
      "\n",
      "*   **Tony's pie after this step:**\n",
      "    *   Tony had 35/20 pieces.\n",
      "    *   Tony receives 8/20 pieces from Janice.\n",
      "    *   35/20 + 8/20 = **43/20** pieces.\n",
      "\n",
      "*   **Janice's pie after this step:**\n",
      "    *   Janice had 50/20 pieces.\n",
      "    *   Janice gives away 8/20 pieces.\n",
      "    *   50/20 - 8/20 = **42/20** pieces.\n",
      "\n",
      "---\n",
      "\n",
      "The question asks: \"How much pie does Tony have now?\"\n",
      "Tony has 43/20 pieces of pie.\n",
      "\n",
      "As a mixed number, 43 divided by 20 is 2 with a remainder of 3.\n",
      "So, Tony has **2 and 3/20** pieces of pie.\n",
      "\n",
      "The final answer is $\\boxed{2 \\frac{3}{20}}$.\n"
     ]
    }
   ],
   "source": [
    "# gemini 2.5 is a reasoning model\n",
    "response = client.models.generate_content(\n",
    "    model=\"gemini-2.5-flash\",\n",
    "    contents=\"Tony has 6 1/10th pieces, 1 1/4th piece, and 3 1/2 pieces of pie. Janice has 4 1/10th pieces, 2 1/4th pieces, and 2 1/2 pieces of pie. Tony gives Janice exactly 3/5th of a pie. Janice then takes all of the 1/10th pieces she has and gives them to Tony. How much pie does Tony have now?\",\n",
    ")\n",
    "print(response.text)"
   ]
  },
  {
   "cell_type": "code",
   "execution_count": null,
   "id": "93d7f28e",
   "metadata": {},
   "outputs": [],
   "source": []
  }
 ],
 "metadata": {
  "kernelspec": {
   "display_name": "reasoning",
   "language": "python",
   "name": "python3"
  },
  "language_info": {
   "codemirror_mode": {
    "name": "ipython",
    "version": 3
   },
   "file_extension": ".py",
   "mimetype": "text/x-python",
   "name": "python",
   "nbconvert_exporter": "python",
   "pygments_lexer": "ipython3",
   "version": "3.12.0"
  }
 },
 "nbformat": 4,
 "nbformat_minor": 5
}
