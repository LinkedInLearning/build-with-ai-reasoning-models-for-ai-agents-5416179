{
 "cells": [
  {
   "cell_type": "markdown",
   "id": "90a7ba74",
   "metadata": {},
   "source": [
    "## Setup\n",
    "Try to have two different models, one non-reasoning and one reasoning, to solve the same problem that requires some common sense reasoning.\n",
    "\n",
    "## Problem\n",
    "Gold coins are worth 25 points, Silver coins are worth 10 points, and Bronze coins are worth 1 point. Suzy has 4 Bronze coins, 2 Silver coin, and 3 Gold coins. Abby has 10 Bronze coins, and 3 Gold Coins. Suzy gives Abby 29 points in exact change and then Abby gives Suzy half of her Bronze coins. How many points does Suzy now have?\n",
    "\n",
    "## Solution\n",
    "77\n"
   ]
  },
  {
   "cell_type": "code",
   "execution_count": 1,
   "id": "b2703cbc",
   "metadata": {},
   "outputs": [],
   "source": [
    "from google import genai\n",
    "from google.genai import types\n",
    "\n",
    "client = genai.Client()"
   ]
  },
  {
   "cell_type": "code",
   "execution_count": 14,
   "id": "402e3711",
   "metadata": {},
   "outputs": [
    {
     "name": "stdout",
     "output_type": "stream",
     "text": [
      "Let's first calculate the initial point totals for Suzy and Abby.\n",
      "\n",
      "Suzy:\n",
      "- 3 Gold coins = 3 * 25 = 75 points\n",
      "- 2 Silver coins = 2 * 10 = 20 points\n",
      "- 4 Bronze coins = 4 * 1 = 4 points\n",
      "Total points for Suzy = 75 + 20 + 4 = 99 points\n",
      "\n",
      "Abby:\n",
      "- 3 Gold coins = 3 * 25 = 75 points\n",
      "- 0 Silver coins = 0 * 10 = 0 points\n",
      "- 10 Bronze coins = 10 * 1 = 10 points\n",
      "Total points for Abby = 75 + 0 + 10 = 85 points\n",
      "\n",
      "Suzy gives Abby 29 points in exact change.\n",
      "Since Suzy must give Abby exact change, let's determine which coins she gives Abby.\n",
      "- Giving one Gold coin (25 points) leaves 4 points to be given. Suzy can give 4 Bronze coins to make 25+4=29 points. But Suzy only has 4 Bronze coins, so she would need to give exactly 1 Gold and 4 Bronze coins.\n",
      "\n",
      "After Suzy gives Abby 1 Gold coin and 4 Bronze coins:\n",
      "Suzy:\n",
      "- 3-1 = 2 Gold coins = 2 * 25 = 50 points\n",
      "- 2 Silver coins = 2 * 10 = 20 points\n",
      "- 4-4 = 0 Bronze coins = 0 * 1 = 0 points\n",
      "Total points for Suzy = 50 + 20 + 0 = 70 points\n",
      "\n",
      "Abby:\n",
      "- 3+1 = 4 Gold coins = 4 * 25 = 100 points\n",
      "- 0 Silver coins = 0 * 10 = 0 points\n",
      "- 10+4 = 14 Bronze coins = 14 * 1 = 14 points\n",
      "Total points for Abby = 100 + 0 + 14 = 114 points\n",
      "\n",
      "Abby gives Suzy half of her Bronze coins. Abby has 14 Bronze coins, so she gives Suzy 14/2 = 7 Bronze coins.\n",
      "After Abby gives Suzy 7 Bronze coins:\n",
      "\n",
      "Suzy:\n",
      "- 2 Gold coins = 2 * 25 = 50 points\n",
      "- 2 Silver coins = 2 * 10 = 20 points\n",
      "- 0+7 = 7 Bronze coins = 7 * 1 = 7 points\n",
      "Total points for Suzy = 50 + 20 + 7 = 77 points\n",
      "\n",
      "Abby:\n",
      "- 4 Gold coins = 4 * 25 = 100 points\n",
      "- 0 Silver coins = 0 * 10 = 0 points\n",
      "- 14-7 = 7 Bronze coins = 7 * 1 = 7 points\n",
      "Total points for Abby = 100 + 0 + 7 = 107 points\n",
      "\n",
      "Therefore, Suzy now has 77 points.\n",
      "\n",
      "Final Answer: The final answer is $\\boxed{77}$\n"
     ]
    }
   ],
   "source": [
    "# gemini 1.5 is not a reasoning model\n",
    "response = client.models.generate_content(\n",
    "    model=\"gemini-2.0-flash\",\n",
    "    contents=\"Gold coins are worth 25 points, Silver coins are worth 10 points, and Bronze coins are worth 1 point. Suzy has 4 Bronze coins, 2 Silver coin, and 3 Gold coins. Abby has 10 Bronze coins, and 3 Gold Coins. Suzy gives Abby 29 points in exact change and then Abby gives Suzy half of her Bronze coins. How many points does Suzy now have?\",\n",
    ")\n",
    "print(response.text)"
   ]
  },
  {
   "cell_type": "code",
   "execution_count": 13,
   "id": "4868deeb",
   "metadata": {},
   "outputs": [
    {
     "name": "stdout",
     "output_type": "stream",
     "text": [
      "Here is the step-by-step breakdown:\n",
      "\n",
      "**1. Calculate Suzy's starting points:**\n",
      "*   Gold: 3 coins * 25 points/coin = 75 points\n",
      "*   Silver: 2 coins * 10 points/coin = 20 points\n",
      "*   Bronze: 4 coins * 1 point/coin = 4 points\n",
      "*   **Suzy's Total: 75 + 20 + 4 = 99 points**\n",
      "\n",
      "**2. Figure out which coins Suzy gives to Abby:**\n",
      "*   Suzy needs to give Abby exactly 29 points.\n",
      "*   Using her coins (3 Gold, 2 Silver, 4 Bronze), the only way to make 29 is with **1 Gold coin (25 points) and 4 Bronze coins (4 points)**.\n",
      "\n",
      "**3. Calculate Suzy's points after giving coins away:**\n",
      "*   Suzy started with 99 points and gave away 29 points.\n",
      "*   99 - 29 = **70 points**\n",
      "\n",
      "**4. Calculate how many Bronze coins Abby has:**\n",
      "*   Abby started with 10 Bronze coins.\n",
      "*   Suzy gave her 4 Bronze coins.\n",
      "*   10 + 4 = **14 Bronze coins**\n",
      "\n",
      "**5. Abby gives half of her Bronze coins to Suzy:**\n",
      "*   Half of Abby's 14 Bronze coins is 14 / 2 = **7 Bronze coins**.\n",
      "*   The value of these coins is 7 points.\n",
      "\n",
      "**6. Calculate Suzy's final point total:**\n",
      "*   Suzy had 70 points.\n",
      "*   She receives 7 points (in Bronze coins) from Abby.\n",
      "*   70 + 7 = **77 points**\n",
      "\n",
      "Suzy now has **77** points.\n"
     ]
    }
   ],
   "source": [
    "# gemini 2.5 is a reasoning model\n",
    "response = client.models.generate_content(\n",
    "    model=\"gemini-2.5-pro\",\n",
    "    contents=\"Gold coins are worth 25 points, Silver coins are worth 10 points, and Bronze coins are worth 1 point. Suzy has 4 Bronze coins, 2 Silver coin, and 3 Gold coins. Abby has 10 Bronze coins, and 3 Gold Coins. Suzy gives Abby 29 points in exact change and then Abby gives Suzy half of her Bronze coins. How many points does Suzy now have?\",\n",
    ")\n",
    "print(response.text)"
   ]
  },
  {
   "cell_type": "code",
   "execution_count": null,
   "id": "93d7f28e",
   "metadata": {},
   "outputs": [],
   "source": []
  }
 ],
 "metadata": {
  "kernelspec": {
   "display_name": "reasoning",
   "language": "python",
   "name": "python3"
  },
  "language_info": {
   "codemirror_mode": {
    "name": "ipython",
    "version": 3
   },
   "file_extension": ".py",
   "mimetype": "text/x-python",
   "name": "python",
   "nbconvert_exporter": "python",
   "pygments_lexer": "ipython3",
   "version": "3.12.0"
  }
 },
 "nbformat": 4,
 "nbformat_minor": 5
}
