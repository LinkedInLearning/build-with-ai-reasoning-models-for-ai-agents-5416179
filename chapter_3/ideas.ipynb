{
 "cells": [
  {
   "cell_type": "markdown",
   "id": "ed559fdd",
   "metadata": {},
   "source": [
    "- get recipe URLs\n",
    "- assume different diets (gluten free, vegan, dairy free)"
   ]
  },
  {
   "cell_type": "code",
   "execution_count": null,
   "id": "61e4c4d3",
   "metadata": {},
   "outputs": [],
   "source": []
  }
 ],
 "metadata": {
  "language_info": {
   "name": "python"
  }
 },
 "nbformat": 4,
 "nbformat_minor": 5
}
