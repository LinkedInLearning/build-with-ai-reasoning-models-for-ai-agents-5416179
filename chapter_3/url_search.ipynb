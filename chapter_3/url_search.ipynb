{
 "cells": [
  {
   "cell_type": "code",
   "execution_count": 10,
   "id": "f1d0042f",
   "metadata": {},
   "outputs": [],
   "source": [
    "from google import genai\n",
    "from google.genai import types\n",
    "from google.genai.types import Tool, GenerateContentConfig"
   ]
  },
  {
   "cell_type": "code",
   "execution_count": 3,
   "id": "9b123605",
   "metadata": {},
   "outputs": [],
   "source": [
    "# Configure the client\n",
    "client = genai.Client()"
   ]
  },
  {
   "cell_type": "code",
   "execution_count": 18,
   "id": "4b657d96",
   "metadata": {},
   "outputs": [],
   "source": [
    "grounding_tool = types.Tool(\n",
    "    google_search=types.GoogleSearch()\n",
    ")"
   ]
  },
  {
   "cell_type": "code",
   "execution_count": 19,
   "id": "f6b3e599",
   "metadata": {},
   "outputs": [],
   "source": [
    "tools = [\n",
    "      {\"url_context\": {}},\n",
    "      grounding_tool\n",
    "  ]"
   ]
  },
  {
   "cell_type": "code",
   "execution_count": 26,
   "id": "d8e8e1d7",
   "metadata": {},
   "outputs": [],
   "source": [
    "response = client.models.generate_content(\n",
    "    model=\"gemini-2.5-flash\",\n",
    "    contents=\"I am going to IBM TechXChange, more information at https://www.ibm.com/community/ibm-techxchange-conference/. Come up with an itinerary for me based on my interests of Open Source, Education, and AI Agents.\",\n",
    "    config=GenerateContentConfig(\n",
    "        tools=tools,\n",
    "        thinking_config=types.ThinkingConfig(thinking_budget=1024)\n",
    "    )\n",
    ")"
   ]
  },
  {
   "cell_type": "code",
   "execution_count": 27,
   "id": "abf7b254",
   "metadata": {},
   "outputs": [
    {
     "name": "stdout",
     "output_type": "stream",
     "text": [
      "IBM TechXchange 2025 will be held in Orlando, FL, from October 6-9. The conference focuses on learning for developers and technologists, particularly around the \"next phase of your AI journey\". It includes opportunities to preview AI developer tooling, explore quantum computing, contribute to open source projects, and get hands-on with Infrastructure as Code (IaC) tools.\n",
      "\n",
      "Here's a possible itinerary based on your interests in Open Source, Education, and AI Agents:\n",
      "\n",
      "**Overall Conference Highlights for Your Interests:**\n",
      "*   **AI Journey:** The conference emphasizes exploring the next phase of your AI journey, with content on advanced AI techniques, governance, and the latest IBM innovations.\n",
      "*   **Open Source:** You'll have opportunities to contribute to open source projects. Specific open source projects mentioned include Bee framework, Data Prep Kit, Docling, Granite, InstructLab, Open Horizon, Paig, Podman, Apache Gluten, Apache Ranger, Apache Superset, Presto, Presto C++, InstructLab, Kueue, KServe, KubeRay, Kubernetes, LM-Eval, Podman, and Ray.\n",
      "*   **Education:** The conference is a learning event with certifications available, hands-on labs, and access to experts. There's also a \"Student Dev Day Pass\" for students, though you're looking for an itinerary based on interests. Several speakers are also educators, such as Aijun An, Professor at York University, and Vivian Aranha, Principal & AI Instructor at Delta Air Lines.\n",
      "\n",
      "**Suggested Itinerary:**\n",
      "\n",
      "**Monday, October 6th: Community Day & Open Source Focus**\n",
      "*   **Morning/Afternoon:** Attend **Community Day** (free with a Community Day Pass), which features open source projects and User Group gatherings. This is an excellent opportunity to engage with projects like Apache Superset and BeeAI.\n",
      "*   **Evening:** Attend the **Sandbox 3.0 Opening Night Block Party**, a networking event to connect with other attendees and experts.\n",
      "\n",
      "**Tuesday, October 7th: AI Agents & Hands-on Learning**\n",
      "*   **Morning:** Focus on the **AI Track**, specifically sessions related to \"Gen AI & Agents.\" Look for sessions featuring products like watsonx Orchestrate, watsonx Code Assistant, watsonx.ai, and watsonx.governance. Keep an eye out for presentations by experts like Jason Lieby, an AI Assistants Specialist at IBM.\n",
      "*   **Afternoon:** Engage in hands-on labs or workshops within the AI track to get practical experience with AI developer tooling.\n",
      "*   **Evening:** Explore **Universal Orlando Resorts Islands of Adventure** (included with a Full Conference Pass or with an optional companion pass) for networking and entertainment.\n",
      "\n",
      "**Wednesday, October 8th: Deep Dive into Open Source AI & Education**\n",
      "*   **Morning:** Attend sessions in the **Red Hat Track** that focus on \"AI Development\" and \"Developer Tools.\" This track highlights participating open source projects like InstructLab, Kueue, KServe, KubeRay, Kubernetes, LM-Eval, Podman, and Ray. Brad Topol, Distinguished Engineer, Director of Open Technologies & Chief Developer Advocate at IBM, is a speaker in this track.\n",
      "*   **Afternoon:** Look for sessions or speakers related to \"Education\" or \"Training\" within the broader conference agenda. Speakers like Aijun An (Professor, York University) and Vivian Aranha (Principal & AI Instructor, Delta Air Lines) might have sessions relevant to educational aspects of AI and technology. Consider exploring the \"Certifications\" program to see what's offered.\n",
      "*   **Late Afternoon:** Participate in **Peer Roundtables** to discuss topics of interest with other attendees.\n",
      "\n",
      "**Thursday, October 9th: Advanced AI & Future Trends**\n",
      "*   **Morning:** Continue exploring the **AI Track**, focusing on advanced techniques like RAG and LLM customization, governance, and model optimization.\n",
      "*   **Afternoon:** Attend sessions that discuss the future of AI, quantum computing, or how AI is being applied in various industries.\n",
      "\n",
      "**Key things to remember for your visit:**\n",
      "*   The conference offers a \"Full Conference Pass\" for $1,599, a \"Single Day Pass\" for $249, and a \"Community Day Pass\" (Monday only) for free. A \"Student Dev Day Pass\" is also available for free on Tuesday for eligible students.\n",
      "*   You'll have access to over 1,000 experts and community leaders.\n",
      "*   The conference encourages co-creation with experts and building real projects.\n",
      "*   The Session Catalog will provide the most detailed and up-to-date schedule for planning your days.\n"
     ]
    }
   ],
   "source": [
    "for each in response.candidates[0].content.parts:\n",
    "    print(each.text)"
   ]
  },
  {
   "cell_type": "code",
   "execution_count": null,
   "id": "3f38c8e0",
   "metadata": {},
   "outputs": [],
   "source": []
  }
 ],
 "metadata": {
  "kernelspec": {
   "display_name": "reasoning (3.12.3)",
   "language": "python",
   "name": "python3"
  },
  "language_info": {
   "codemirror_mode": {
    "name": "ipython",
    "version": 3
   },
   "file_extension": ".py",
   "mimetype": "text/x-python",
   "name": "python",
   "nbconvert_exporter": "python",
   "pygments_lexer": "ipython3",
   "version": "3.12.3"
  }
 },
 "nbformat": 4,
 "nbformat_minor": 5
}
