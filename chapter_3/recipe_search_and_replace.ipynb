{
 "cells": [
  {
   "cell_type": "code",
   "execution_count": 1,
   "id": "c8746d4d",
   "metadata": {},
   "outputs": [],
   "source": [
    "from google import genai\n",
    "from google.genai import types\n",
    "from google.genai.types import Tool, GenerateContentConfig"
   ]
  },
  {
   "cell_type": "code",
   "execution_count": 2,
   "id": "5b9b9da0",
   "metadata": {},
   "outputs": [],
   "source": [
    "# Configure the client\n",
    "client = genai.Client()"
   ]
  },
  {
   "cell_type": "code",
   "execution_count": 3,
   "id": "4f61a4de",
   "metadata": {},
   "outputs": [],
   "source": [
    "search_tool = types.Tool(\n",
    "    google_search=types.GoogleSearch()\n",
    ")"
   ]
  },
  {
   "cell_type": "code",
   "execution_count": 4,
   "id": "e5c7f5d4",
   "metadata": {},
   "outputs": [],
   "source": [
    "tools = [\n",
    "      {\"url_context\": {}},\n",
    "        search_tool\n",
    "  ]"
   ]
  },
  {
   "cell_type": "code",
   "execution_count": 5,
   "id": "1907f7ae",
   "metadata": {},
   "outputs": [],
   "source": [
    "response = client.models.generate_content(\n",
    "    model=\"gemini-2.5-flash\",\n",
    "    contents=\"Use the search tool to find 3 recipes for tiramisu. Compare and contrast the required ingredients for the recipes and tell me which ingredients I need and which ones I may be able to substitute out if I am gluten free or dairy free.\",\n",
    "    config=GenerateContentConfig(\n",
    "        tools=tools\n",
    "    )\n",
    ")"
   ]
  },
  {
   "cell_type": "code",
   "execution_count": 7,
   "id": "1efccb78",
   "metadata": {},
   "outputs": [
    {
     "name": "stdout",
     "output_type": "stream",
     "text": [
      "Here's a comparison of three tiramisu recipes, focusing on their ingredients and potential substitutions for gluten-free and dairy-free diets:\n",
      "\n",
      "### Tiramisu Recipe 1: Tastes Better From Scratch\n",
      "\n",
      "**Required Ingredients:**\n",
      "*   Ladyfingers\n",
      "*   Mascarpone cheese\n",
      "*   Espresso (or coffee, decaf)\n",
      "*   Heavy Whipping cream\n",
      "*   Granulated Sugar\n",
      "*   Vanilla extract (or imitation vanilla)\n",
      "*   Cocoa powder\n",
      "*   Coffee-flavored liqueur (optional; can substitute dark rum, brandy, or marsala wine, or omit entirely)\n",
      "\n",
      "**Comparison:** This recipe is notable for *not* using raw eggs, opting for fresh whipped cream instead for an easier preparation and creamy texture.\n",
      "\n",
      "**Gluten-Free Substitutions:**\n",
      "*   **Ladyfingers:** Substitute with gluten-free ladyfingers or a gluten-free sponge cake.\n",
      "\n",
      "**Dairy-Free Substitutions:**\n",
      "*   **Mascarpone:** This is the most challenging ingredient for dairy-free. The recipe suggests cream cheese as a substitute if absolutely necessary, but this would still contain dairy. For a truly dairy-free option, a homemade cashew-based \"mascarpone\" or a store-bought dairy-free cream cheese alternative could be explored, though this may significantly alter the traditional taste and texture.\n",
      "*   **Heavy Whipping Cream:** Dairy-free heavy cream alternatives made from coconut milk or other plant-based sources can be used.\n",
      "\n",
      "### Tiramisu Recipe 2: The Kitchn - Easy Italian Tiramisu (Our Best Ever!)\n",
      "\n",
      "**Required Ingredients:**\n",
      "*   Strongly brewed coffee (at room temperature, can use espresso)\n",
      "*   Granulated sugar\n",
      "*   Dark rum (optional)\n",
      "*   Vanilla extract\n",
      "*   Cold heavy cream\n",
      "*   Large egg yolks (pasteurized recommended)\n",
      "*   Cold mascarpone cheese\n",
      "*   Crisp (savoiardi) ladyfingers\n",
      "*   Kosher salt\n",
      "*   Unsweetened cocoa powder\n",
      "*   Dark chocolate bar (optional, for shaving)\n",
      "\n",
      "**Comparison:** This recipe uses egg yolks and whipped cream for the filling, aiming for a smooth, creamy texture without using egg whites. It explicitly mentions the option of using pasteurized eggs for safety since the eggs are raw.\n",
      "\n",
      "**Gluten-Free Substitutions:**\n",
      "*   **Ladyfingers:** Use gluten-free ladyfingers or brush gluten-free cake-style ladyfingers with the coffee soak instead of dipping, as they can fall apart more easily.\n",
      "\n",
      "**Dairy-Free Substitutions:**\n",
      "*   **Heavy Cream:** Dairy-free whipping cream alternatives (e.g., coconut cream) can be used.\n",
      "*   **Mascarpone Cheese:** Similar to the previous recipe, a homemade cashew-based alternative or a store-bought dairy-free cream cheese substitute would be needed. This is a significant alteration to the traditional dairy-rich mascarpone.\n",
      "\n",
      "### Tiramisu Recipe 3: Tour Tuscany - Classic Tuscan Tiramisu\n",
      "\n",
      "**Required Ingredients:**\n",
      "*   Savoiardi ladyfingers\n",
      "*   Mascarpone cheese\n",
      "*   Medium eggs (separated into whites and yolks)\n",
      "*   Espresso coffee\n",
      "*   Rum (two tablespoons)\n",
      "*   Unsweetened cocoa powder\n",
      "\n",
      "**Comparison:** This recipe is a traditional Tuscan version that uses both egg yolks (with sugar and mascarpone) and stiffly beaten egg whites in the cream mixture.\n",
      "\n",
      "**Gluten-Free Substitutions:**\n",
      "*   **Savoiardi ladyfingers:** Replace with gluten-free ladyfingers or a suitable gluten-free sponge cake.\n",
      "\n",
      "**Dairy-Free Substitutions:**\n",
      "*   **Mascarpone Cheese:** This is a core dairy ingredient. As with the other recipes, a dairy-free alternative would be required, such as a homemade cashew cream or a commercial dairy-free cream cheese substitute. This will significantly change the flavor and texture of the filling.\n",
      "\n",
      "---\n",
      "\n",
      "### Common Required Ingredients Across Recipes:\n",
      "\n",
      "*   **Ladyfingers:** All recipes require ladyfingers.\n",
      "*   **Mascarpone Cheese:** A fundamental ingredient in all traditional tiramisu recipes.\n",
      "*   **Coffee (Espresso):** Essential for dipping the ladyfingers.\n",
      "*   **Sugar:** Used to sweeten the cream and sometimes the coffee soak.\n",
      "*   **Cocoa Powder:** For dusting the top.\n",
      "*   **Alcohol (Rum/Liqueur):** Often included for flavor, though optional in some recipes.\n",
      "\n",
      "### Ingredients for Gluten-Free & Dairy-Free Diets:\n",
      "\n",
      "**Gluten-Free Substitutions:**\n",
      "\n",
      "*   **Ladyfingers:** This is the primary ingredient to substitute. Look for **gluten-free ladyfingers** or use a **gluten-free sponge cake** instead. Ensure any other processed ingredients (like cocoa powder) are certified gluten-free if cross-contamination is a concern.\n",
      "\n",
      "**Dairy-Free Substitutions:**\n",
      "\n",
      "*   **Mascarpone Cheese:** This is the most challenging dairy ingredient. You will need to find a **dairy-free mascarpone alternative**. Some options include:\n",
      "    *   **Homemade cashew-based \"mascarpone\":** This involves soaking and blending cashews to create a creamy base.\n",
      "    *   **Store-bought dairy-free cream cheese alternatives:** While not identical to mascarpone, some brands offer a creamy, tangy profile that might work in a pinch. However, the texture and flavor will differ from traditional tiramisu.\n",
      "*   **Heavy Whipping Cream (if used):** Substitute with **dairy-free heavy cream alternatives**, such as full-fat canned coconut cream (chilled, with the solid part scooped out) or commercial plant-based whipping creams.\n",
      "\n",
      "**Other potential substitutions/considerations:**\n",
      "*   **Eggs:** While some recipes use raw eggs, others do not. If following a recipe with raw eggs and concerned about egg consumption, consider a recipe that omits them or uses pasteurized eggs. If you have an egg allergy, finding an egg-free tiramisu recipe or a suitable egg replacer for the custard (if the recipe uses eggs) would be necessary. However, traditional tiramisu relies heavily on eggs for texture.\n"
     ]
    }
   ],
   "source": [
    "returned_text = \"\"\n",
    "for each in response.candidates[0].content.parts:\n",
    "    print(each.text)\n",
    "    returned_text += each.text"
   ]
  },
  {
   "cell_type": "code",
   "execution_count": 9,
   "id": "4d6f4073",
   "metadata": {},
   "outputs": [],
   "source": [
    "response_2 = client.models.generate_content(\n",
    "    model=\"gemini-2.5-flash\",\n",
    "    contents=f\"Are these substitutions accurate? {returned_text} Can you find new recipes for gluten free and dairy free tiramisu and compare them to the suggested substitutions? Please cite the websites where you found the recipes.\",\n",
    "    config=GenerateContentConfig(\n",
    "        tools=tools\n",
    "    )\n",
    ")"
   ]
  },
  {
   "cell_type": "code",
   "execution_count": 11,
   "id": "ed852287",
   "metadata": {},
   "outputs": [
    {
     "name": "stdout",
     "output_type": "stream",
     "text": [
      "Your suggested substitutions for gluten-free and dairy-free tiramisu are largely accurate and align well with what is found in specialized recipes. Here's a breakdown and comparison with new recipes:\n",
      "\n",
      "### Evaluation of Your Suggested Substitutions:\n",
      "\n",
      "**Gluten-Free Substitutions:**\n",
      "*   **Ladyfingers:** Your suggestion to substitute with **gluten-free ladyfingers or a gluten-free sponge cake** is highly accurate. New recipes confirm this:\n",
      "    *   The gfJules recipe provides instructions for **homemade gluten-free ladyfingers** using a specific gluten-free flour blend.\n",
      "    *   Blue Sky Eating uses a **store-bought gluten-free and dairy-free Madeira loaf cake** cut into rounds as the sponge layer.\n",
      "    *   Zest for Baking specifically recommends **Schar brand gluten-free ladyfingers**.\n",
      "\n",
      "**Dairy-Free Substitutions:**\n",
      "*   **Mascarpone:** You correctly identified this as the most challenging ingredient. Your suggestion of a **homemade cashew-based \"mascarpone\" or a store-bought dairy-free cream cheese alternative** is supported by the new recipes:\n",
      "    *   The gfJules recipe utilizes **vegan cream cheese** (e.g., Miyoko's Creamery) in its filling.\n",
      "    *   Blue Sky Eating combines **Nush almond cream cheese** with a plant-based double cream for its filling.\n",
      "    *   Zest for Baking uses **dairy-free cream cheese** (e.g., Kite Hill or Toffuti brands).\n",
      "    This confirms that commercial dairy-free cream cheese alternatives are a common and effective substitute for mascarpone in these adapted recipes.\n",
      "*   **Heavy Whipping Cream:** Your suggestion to use **dairy-free heavy cream alternatives** like coconut milk or other plant-based sources is accurate.\n",
      "    *   The gfJules recipe uses **dairy-free heavy cream** (e.g., Silk brand).\n",
      "    *   Blue Sky Eating uses **Elmlea Plant double cream** or similar whip-able dairy-free cream.\n",
      "    *   Zest for Baking specifically recommends **chilled coconut cream** (the solid part from a can), which replaces heavy whipping cream and whips up easily.\n",
      "\n",
      "### Other Potential Substitutions/Considerations:\n",
      "\n",
      "*   **Eggs:** Your consideration about eggs is valid.\n",
      "    *   Some dairy-free and gluten-free recipes, like the one from Blue Sky Eating, are **egg-free and no-bake**, simplifying the process and making them suitable for egg allergies.\n",
      "    *   Other recipes, like gfJules and Zest for Baking, still incorporate **egg yolks** (cooked, in the case of Zest for Baking) for richness and texture in the cream filling. If there's an egg allergy, an egg-free recipe or a suitable egg replacer for the yolks would be necessary, as you noted.\n",
      "*   **Alcohol:** All new recipes either include rum or state it as optional, consistent with your original comparison.\n",
      "\n",
      "In conclusion, your analysis of potential substitutions is very accurate, and the new recipes found demonstrate successful real-world applications of these alternatives, providing specific brand suggestions and preparation notes.\n"
     ]
    }
   ],
   "source": [
    "print(response_2.text)"
   ]
  },
  {
   "cell_type": "code",
   "execution_count": 12,
   "id": "9065dc71",
   "metadata": {},
   "outputs": [],
   "source": [
    "response_3 = client.models.generate_content(\n",
    "    model=\"gemini-2.5-flash\",\n",
    "    contents=f\"Find the links to the recipes outlined in {response_2}\",\n",
    "    config=GenerateContentConfig(\n",
    "        tools=tools\n",
    "    )\n",
    ")"
   ]
  },
  {
   "cell_type": "code",
   "execution_count": 13,
   "id": "5b201d91",
   "metadata": {},
   "outputs": [
    {
     "name": "stdout",
     "output_type": "stream",
     "text": [
      "sdk_http_response=HttpResponse(\n",
      "  headers=<dict len=11>\n",
      ") candidates=[Candidate(\n",
      "  content=Content(\n",
      "    parts=[\n",
      "      Part(\n",
      "        text=\"\"\"Here are the links to the recipes mentioned:\n",
      "\n",
      "*   **gfJules recipe:** https://vertexaisearch.cloud.google.com/grounding-api-redirect/AUZIYQGtX0usO9IqX_Qa1ohdiqQEFmiLzsGwlyexc1CCjM-T4QUabLl3-l4GoQBO0L9T6GZD5JRDKfrLmGKe2q8H9yTxg-Ja5YPQ-J7gEEbp_zfIAa3T3Hgr3vUHTL_Cm2wuaNnmmVGyEtpwJq4i0EwK6_55njaOvtZvcaU2OUyywlWYuauAbg==\n",
      "*   **Blue Sky Eating recipe:** https://vertexaisearch.cloud.google.com/grounding-api-redirect/AUZIYQG_GmkmPlNf5fFQzD38UW4_ykCUUvrH4snX5V0-9nu9inzCUi9yNnKTXi8mQT-7jgbeLPn6Vn1SAWcpSN-8OpOt9HNbdeQyE4PxUQdI1iipnObIoRxsY4bIoNz-NA8WaWmgrsIzRBuSBIQRvuE4Xg6p\n",
      "*   **Zest for Baking recipe:** https://vertexaisearch.cloud.google.com/grounding-api-redirect/AUZIYQH-6WSjwDBvmOTOk6UUz3yMVXye5yAvIQFWIQ-8887p85ajWa-g_7eBO__ykrs2CfKXys8LZJmYdl3Rmq1bGxDWNVsYIRNbDHEXpZe4eS5ynsjRE9bt26lFPIVI9hcuogthdI-LLWN8k4hFIeVKqwj-UWm4zA==\"\"\"\n",
      "      ),\n",
      "    ],\n",
      "    role='model'\n",
      "  ),\n",
      "  finish_reason=<FinishReason.STOP: 'STOP'>,\n",
      "  grounding_metadata=GroundingMetadata(\n",
      "    grounding_supports=[\n",
      "      GroundingSupport(\n",
      "        grounding_chunk_indices=[\n",
      "          0,\n",
      "        ],\n",
      "        segment=Segment(\n",
      "          end_index=569,\n",
      "          start_index=318,\n",
      "          text='*   **Blue Sky Eating recipe:** https://vertexaisearch.cloud.google.com/grounding-api-redirect/AUZIYQG_GmkmPlNf5fFQzD38UW4_ykCUUvrH4snX5V0-9nu9inzCUi9yNnKTXi8mQT-7jgbeLPn6Vn1SAWcpSN-8OpOt9HNbdeQyE4PxUQdI1iipnObIoRxsY4bIoNz-NA8WaWmgrsIzRBuSBIQRvuE4Xg6p'\n",
      "        )\n",
      "      ),\n",
      "      GroundingSupport(\n",
      "        grounding_chunk_indices=[\n",
      "          1,\n",
      "        ],\n",
      "        segment=Segment(\n",
      "          end_index=829,\n",
      "          start_index=570,\n",
      "          text='*   **Zest for Baking recipe:** https://vertexaisearch.cloud.google.com/grounding-api-redirect/AUZIYQH-6WSjwDBvmOTOk6UUz3yMVXye5yAvIQFWIQ-8887p85ajWa-g_7eBO__ykrs2CfKXys8LZJmYdl3Rmq1bGxDWNVsYIRNbDHEXpZe4eS5ynsjRE9bt26lFPIVI9hcuogthdI-LLWN8k4hFIeVKqwj-UWm4zA=='\n",
      "        )\n",
      "      ),\n",
      "    ]\n",
      "  ),\n",
      "  index=0\n",
      ")] create_time=None model_version='gemini-2.5-flash' prompt_feedback=None response_id='Ggm6aIebKqDSqtsPh5fr6A8' usage_metadata=GenerateContentResponseUsageMetadata(\n",
      "  candidates_token_count=446,\n",
      "  prompt_token_count=5618,\n",
      "  prompt_tokens_details=[\n",
      "    ModalityTokenCount(\n",
      "      modality=<MediaModality.TEXT: 'TEXT'>,\n",
      "      token_count=5618\n",
      "    ),\n",
      "  ],\n",
      "  thoughts_token_count=34,\n",
      "  total_token_count=6098\n",
      ") automatic_function_calling_history=[] parsed=None\n"
     ]
    }
   ],
   "source": [
    "print(response_3)"
   ]
  },
  {
   "cell_type": "code",
   "execution_count": null,
   "id": "fedaf446",
   "metadata": {},
   "outputs": [],
   "source": []
  }
 ],
 "metadata": {
  "kernelspec": {
   "display_name": "r2d2 (3.12.3)",
   "language": "python",
   "name": "python3"
  },
  "language_info": {
   "codemirror_mode": {
    "name": "ipython",
    "version": 3
   },
   "file_extension": ".py",
   "mimetype": "text/x-python",
   "name": "python",
   "nbconvert_exporter": "python",
   "pygments_lexer": "ipython3",
   "version": "3.12.3"
  }
 },
 "nbformat": 4,
 "nbformat_minor": 5
}
