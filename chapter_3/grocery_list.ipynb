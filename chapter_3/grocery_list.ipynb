{
 "cells": [
  {
   "cell_type": "code",
   "execution_count": 19,
   "id": "11e76af7",
   "metadata": {},
   "outputs": [],
   "source": [
    "from google import genai\n",
    "from google.genai import types\n",
    "from google.genai.types import Tool, GenerateContentConfig"
   ]
  },
  {
   "cell_type": "code",
   "execution_count": 20,
   "id": "e2323710",
   "metadata": {},
   "outputs": [],
   "source": [
    "# Configure the client\n",
    "client = genai.Client()"
   ]
  },
  {
   "cell_type": "code",
   "execution_count": 21,
   "id": "038f9240",
   "metadata": {},
   "outputs": [],
   "source": [
    "search_tool = types.Tool(\n",
    "    google_search=types.GoogleSearch()\n",
    ")"
   ]
  },
  {
   "cell_type": "code",
   "execution_count": 22,
   "id": "e791bc41",
   "metadata": {},
   "outputs": [],
   "source": [
    "tools = [\n",
    "      {\"url_context\": {}},\n",
    "        search_tool\n",
    "  ]"
   ]
  },
  {
   "cell_type": "code",
   "execution_count": 23,
   "id": "552365a7",
   "metadata": {},
   "outputs": [],
   "source": [
    "response = client.models.generate_content(\n",
    "    model=\"gemini-2.5-flash\",\n",
    "    contents=\"Use the search tool to find 3 recipes for fettuccine alfredo. Compare and contrast the required ingredients for the recipes and tell me which ingredients I need and which ones I may be able to substitute out.\",\n",
    "    config=GenerateContentConfig(\n",
    "        tools=tools\n",
    "    )\n",
    ")"
   ]
  },
  {
   "cell_type": "code",
   "execution_count": 24,
   "id": "4f497ac3",
   "metadata": {},
   "outputs": [],
   "source": [
    "returned_text = \"\"\n",
    "for each in response.candidates[0].content.parts:\n",
    "    # print(each.text)\n",
    "    returned_text += each.text"
   ]
  },
  {
   "cell_type": "code",
   "execution_count": 25,
   "id": "757c03cf",
   "metadata": {},
   "outputs": [],
   "source": [
    "response_2 = client.models.generate_content(\n",
    "    model=\"gemini-2.5-flash\",\n",
    "    contents=f\"I have these recipes: {returned_text} But I have some friends with dietary restrictions, can you suggest replacements for either dairy-free or gluten-free options.\",\n",
    "    config=GenerateContentConfig(\n",
    "        tools=tools\n",
    "    )\n",
    ")"
   ]
  },
  {
   "cell_type": "code",
   "execution_count": 26,
   "id": "41f28c0d",
   "metadata": {},
   "outputs": [
    {
     "name": "stdout",
     "output_type": "stream",
     "text": [
      "Here are some suggested replacements for a dairy-free or gluten-free fettuccine alfredo:\n",
      "\n",
      "### Dairy-Free Substitutions\n",
      "\n",
      "To make your fettuccine alfredo dairy-free, you'll need to replace the butter, heavy cream, and Parmesan cheese:\n",
      "\n",
      "*   **Butter:** You can use vegan butter brands such as Earth Balance, Miyoko's, Country Crock Plant Butter, or Becel Vegan margarine. For cooking, olive oil, vegetable shortening, coconut oil, or other vegetable oils can also be used.\n",
      "*   **Heavy Cream:**\n",
      "    *   **Coconut Cream:** This is a rich, creamy option and can often be substituted in a 1:1 ratio. Be aware that it may impart a subtle coconut flavor.\n",
      "    *   **Cashew Cream:** Made by soaking and blending cashews, cashew cream offers a rich and neutral flavor, making it a versatile substitute for heavy cream in sauces like Alfredo.\n",
      "    *   **Plant-based Milk and Oil:** A mixture of non-dairy milk (such as soy, almond, oat, or cashew milk) and a neutral oil (like olive oil) can mimic the richness of heavy cream for cooking.\n",
      "    *   **Commercial Dairy-Free Cream Alternatives:** Products like Silk Dairy-Free Heavy Whipping Cream Alternative are specifically designed for dairy-free cooking and can be used in Alfredo sauce.\n",
      "*   **Parmesan Cheese:**\n",
      "    *   **Homemade Vegan Parmesan:** You can create a dairy-free Parmesan substitute by blending ingredients like pine nuts or cashews with hemp seeds, nutritional yeast (which provides a cheesy flavor), garlic powder, and salt.\n",
      "    *   **Store-bought Dairy-Free Parmesan:** Brands like Follow Your Heart offer grated dairy-free Parmesan alternatives that mimic the sharp, nutty taste of traditional Parmesan.\n",
      "\n",
      "### Gluten-Free Substitutions\n",
      "\n",
      "To make your fettuccine alfredo gluten-free, the primary substitution is the pasta:\n",
      "\n",
      "*   **Fettuccine Noodles:** Many brands offer gluten-free fettuccine made from alternative flours. Common options include pasta made from corn and rice flour (e.g., Barilla Gluten Free Fettuccine) or brown rice flour (e.g., Trader Joe's Gluten Free Egg Fettuccine Pasta, Taste Republic Fresh Gluten-Free Fettuccine). You can also make homemade gluten-free pasta using specialized gluten-free pasta flour blends.\n"
     ]
    }
   ],
   "source": [
    "print(response_2.text)"
   ]
  },
  {
   "cell_type": "code",
   "execution_count": 27,
   "id": "b1d833b8",
   "metadata": {},
   "outputs": [],
   "source": [
    "response_3 = client.models.generate_content(\n",
    "    model=\"gemini-2.5-flash\",\n",
    "    contents=f\"Based on the recipes listed in {response_2.text} make me two simple and comprehensive grocery lists to follow to make a dairy-free or gluten-free recipe for fettucine alfredo.\",\n",
    "    config=GenerateContentConfig(\n",
    "        tools=tools\n",
    "    )\n",
    ")"
   ]
  },
  {
   "cell_type": "code",
   "execution_count": 29,
   "id": "e1299a05",
   "metadata": {},
   "outputs": [
    {
     "name": "stdout",
     "output_type": "stream",
     "text": [
      "Here are two simple and comprehensive grocery lists based on the provided dairy-free and gluten-free fettuccine alfredo substitutions:\n",
      "\n",
      "### Dairy-Free Fettuccine Alfredo Grocery List\n",
      "\n",
      "To make a dairy-free fettuccine alfredo, you will need the following substitutions for traditional butter, heavy cream, and Parmesan cheese:\n",
      "\n",
      "*   **Butter Alternative:**\n",
      "    *   Vegan butter (e.g., Earth Balance, Miyoko's, Country Crock Plant Butter, Becel Vegan margarine)\n",
      "    *   *OR* Olive oil, vegetable shortening, coconut oil, or other vegetable oils\n",
      "*   **Heavy Cream Alternative:**\n",
      "    *   Coconut Cream\n",
      "    *   *OR* Cashews (for making cashew cream)\n",
      "    *   *OR* Plant-based milk (such as soy, almond, oat, or cashew milk) AND a neutral oil (like olive oil)\n",
      "    *   *OR* Commercial Dairy-Free Cream Alternative (e.g., Silk Dairy-Free Heavy Whipping Cream Alternative)\n",
      "*   **Parmesan Cheese Alternative:**\n",
      "    *   Nutritional yeast\n",
      "    *   Pine nuts or cashews (for homemade vegan Parmesan)\n",
      "    *   Hemp seeds (for homemade vegan Parmesan)\n",
      "    *   Garlic powder (for homemade vegan Parmesan)\n",
      "    *   Salt (for homemade vegan Parmesan)\n",
      "    *   *OR* Store-bought Dairy-Free Parmesan (e.g., Follow Your Heart)\n",
      "\n",
      "### Gluten-Free Fettuccine Alfredo Grocery List\n",
      "\n",
      "To make a gluten-free fettuccine alfredo, the primary substitution is the pasta:\n",
      "\n",
      "*   **Gluten-Free Fettuccine Noodles:**\n",
      "    *   Pasta made from corn and rice flour (e.g., Barilla Gluten Free Fettuccine)\n",
      "    *   *OR* Pasta made from brown rice flour (e.g., Trader Joe's Gluten Free Egg Fettuccine Pasta, Taste Republic Fresh Gluten-Free Fettuccine)\n",
      "    *   *OR* Gluten-free pasta flour blend (if making homemade gluten-free pasta)\n"
     ]
    }
   ],
   "source": [
    "print(response_3.text)"
   ]
  },
  {
   "cell_type": "code",
   "execution_count": null,
   "id": "74951b7b",
   "metadata": {},
   "outputs": [],
   "source": []
  },
  {
   "cell_type": "code",
   "execution_count": null,
   "id": "be25f17f",
   "metadata": {},
   "outputs": [],
   "source": []
  }
 ],
 "metadata": {
  "kernelspec": {
   "display_name": "reasoning",
   "language": "python",
   "name": "python3"
  },
  "language_info": {
   "codemirror_mode": {
    "name": "ipython",
    "version": 3
   },
   "file_extension": ".py",
   "mimetype": "text/x-python",
   "name": "python",
   "nbconvert_exporter": "python",
   "pygments_lexer": "ipython3",
   "version": "3.12.0"
  }
 },
 "nbformat": 4,
 "nbformat_minor": 5
}
