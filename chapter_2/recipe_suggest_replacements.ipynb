{
 "cells": [
  {
   "cell_type": "code",
   "execution_count": 1,
   "id": "c8746d4d",
   "metadata": {},
   "outputs": [],
   "source": [
    "from google import genai\n",
    "from google.genai import types\n",
    "from google.genai.types import Tool, GenerateContentConfig"
   ]
  },
  {
   "cell_type": "code",
   "execution_count": 2,
   "id": "5b9b9da0",
   "metadata": {},
   "outputs": [],
   "source": [
    "# Configure the client\n",
    "client = genai.Client()"
   ]
  },
  {
   "cell_type": "code",
   "execution_count": 3,
   "id": "4f61a4de",
   "metadata": {},
   "outputs": [],
   "source": [
    "search_tool = types.Tool(\n",
    "    google_search=types.GoogleSearch()\n",
    ")"
   ]
  },
  {
   "cell_type": "code",
   "execution_count": 4,
   "id": "e5c7f5d4",
   "metadata": {},
   "outputs": [],
   "source": [
    "tools = [\n",
    "      {\"url_context\": {}},\n",
    "        search_tool\n",
    "  ]"
   ]
  },
  {
   "cell_type": "code",
   "execution_count": 5,
   "id": "1907f7ae",
   "metadata": {},
   "outputs": [],
   "source": [
    "response = client.models.generate_content(\n",
    "    model=\"gemini-2.5-flash\",\n",
    "    contents=\"Use the search tool to find 3 recipes for fettuccine alfredo. Compare and contrast the required ingredients for the recipes and tell me which ingredients I need and which ones I may be able to substitute out if I am gluten free or dairy free.\",\n",
    "    config=GenerateContentConfig(\n",
    "        tools=tools\n",
    "    )\n",
    ")"
   ]
  },
  {
   "cell_type": "code",
   "execution_count": 6,
   "id": "1efccb78",
   "metadata": {},
   "outputs": [],
   "source": [
    "returned_text = \"\"\n",
    "for each in response.candidates[0].content.parts:\n",
    "    # print(each.text)\n",
    "    returned_text += each.text"
   ]
  },
  {
   "cell_type": "code",
   "execution_count": 7,
   "id": "4d6f4073",
   "metadata": {},
   "outputs": [],
   "source": [
    "response_2 = client.models.generate_content(\n",
    "    model=\"gemini-2.5-flash\",\n",
    "    contents=f\"I have these recipes: {returned_text} But I have some friends with dietary restrictions, can you suggest replacements for either dairy-free or gluten-free options.\",\n",
    "    config=GenerateContentConfig(\n",
    "        tools=tools\n",
    "    )\n",
    ")"
   ]
  },
  {
   "cell_type": "code",
   "execution_count": 8,
   "id": "ed852287",
   "metadata": {},
   "outputs": [
    {
     "name": "stdout",
     "output_type": "stream",
     "text": [
      "Here are the suggested replacements for gluten-free and dairy-free options based on the recipes you provided:\n",
      "\n",
      "### Gluten-Free Substitutions\n",
      "\n",
      "*   **Fettuccine:** Substitute traditional fettuccine with a **gluten-free fettuccine** made from ingredients such as brown rice, corn, or quinoa.\n",
      "\n",
      "### Dairy-Free Substitutions\n",
      "\n",
      "*   **Butter:** Replace dairy butter with a **dairy-free butter alternative** made from plant-based oils.\n",
      "*   **Heavy Cream:** Use **full-fat coconut milk** (from a can for higher fat content and creaminess) or **cashew cream**. Cashew cream is generally preferred for a more neutral flavor profile compared to coconut milk.\n",
      "*   **Parmesan Cheese:** Opt for a **plant-based Parmesan substitute**, which are available in grated or block forms and often made from nutritional yeast, nuts, or starches.\n",
      "*   **Salt, Pepper, Garlic, Nutmeg, and Parsley:** These ingredients are naturally dairy-free and gluten-free, so no substitutions are needed for them.\n"
     ]
    }
   ],
   "source": [
    "print(response_2.text)"
   ]
  },
  {
   "cell_type": "code",
   "execution_count": null,
   "id": "fedaf446",
   "metadata": {},
   "outputs": [],
   "source": []
  }
 ],
 "metadata": {
  "kernelspec": {
   "display_name": "reasoning",
   "language": "python",
   "name": "python3"
  },
  "language_info": {
   "codemirror_mode": {
    "name": "ipython",
    "version": 3
   },
   "file_extension": ".py",
   "mimetype": "text/x-python",
   "name": "python",
   "nbconvert_exporter": "python",
   "pygments_lexer": "ipython3",
   "version": "3.12.0"
  }
 },
 "nbformat": 4,
 "nbformat_minor": 5
}
