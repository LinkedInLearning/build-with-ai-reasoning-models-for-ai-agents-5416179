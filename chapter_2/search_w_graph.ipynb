{
 "cells": [
  {
   "cell_type": "code",
   "execution_count": null,
   "id": "96d734d0",
   "metadata": {},
   "outputs": [],
   "source": [
    "from google import genai\n",
    "from google.genai import types"
   ]
  },
  {
   "cell_type": "code",
   "execution_count": null,
   "id": "85024253",
   "metadata": {},
   "outputs": [],
   "source": [
    "# Configure the client\n",
    "client = genai.Client()"
   ]
  },
  {
   "cell_type": "code",
   "execution_count": null,
   "id": "094b90fd",
   "metadata": {},
   "outputs": [],
   "source": [
    "# Define the grounding tool\n",
    "grounding_tool = types.Tool(\n",
    "    google_search=types.GoogleSearch()\n",
    ")"
   ]
  },
  {
   "cell_type": "code",
   "execution_count": null,
   "id": "7451d9db",
   "metadata": {},
   "outputs": [],
   "source": [
    "# Configure generation settings\n",
    "config = types.GenerateContentConfig(\n",
    "    tools=[grounding_tool]\n",
    ")"
   ]
  },
  {
   "cell_type": "code",
   "execution_count": null,
   "id": "474f6582",
   "metadata": {},
   "outputs": [],
   "source": [
    "# Make the request\n",
    "response = client.models.generate_content(\n",
    "    model=\"gemini-2.5-flash\",\n",
    "    contents=\"Which company had higher revenues in 2024? Uber or Lyft?\",\n",
    "    config=config,\n",
    ")"
   ]
  },
  {
   "cell_type": "code",
   "execution_count": null,
   "id": "615ad9b8",
   "metadata": {},
   "outputs": [],
   "source": [
    "# Print the grounded response\n",
    "print(response.text)"
   ]
  },
  {
   "cell_type": "code",
   "execution_count": null,
   "id": "6abdf507",
   "metadata": {},
   "outputs": [],
   "source": [
    "image_model_name = \"gemini-2.5-flash-image-preview\""
   ]
  },
  {
   "cell_type": "code",
   "execution_count": null,
   "id": "67956f3b",
   "metadata": {},
   "outputs": [],
   "source": [
    "image_generated = client.models.generate_content(\n",
    "      model=image_model_name,\n",
    "      contents=[f\"Given the information in {response.text} generate a graph in the style of an excel chart.\"],\n",
    "  )"
   ]
  },
  {
   "cell_type": "code",
   "execution_count": null,
   "id": "6592b128",
   "metadata": {},
   "outputs": [],
   "source": [
    "from PIL import Image\n",
    "from io import BytesIO\n",
    "for part in image_generated.candidates[0].content.parts:\n",
    "    if part.text is not None:\n",
    "        print(part.text)\n",
    "    elif part.inline_data is not None:\n",
    "        image = Image.open(BytesIO(part.inline_data.data))\n",
    "        Image.show(image)\n",
    "        image.save(\"chart.png\")"
   ]
  },
  {
   "cell_type": "code",
   "execution_count": null,
   "id": "07a9d038",
   "metadata": {},
   "outputs": [],
   "source": []
  }
 ],
 "metadata": {
  "kernelspec": {
   "display_name": "reasoning (3.12.3)",
   "language": "python",
   "name": "python3"
  },
  "language_info": {
   "codemirror_mode": {
    "name": "ipython",
    "version": 3
   },
   "file_extension": ".py",
   "mimetype": "text/x-python",
   "name": "python",
   "nbconvert_exporter": "python",
   "pygments_lexer": "ipython3",
   "version": "3.12.3"
  }
 },
 "nbformat": 4,
 "nbformat_minor": 5
}
