{
 "cells": [
  {
   "cell_type": "code",
   "execution_count": 1,
   "id": "5588ce99",
   "metadata": {},
   "outputs": [],
   "source": [
    "from google import genai\n",
    "from google.genai import types"
   ]
  },
  {
   "cell_type": "code",
   "execution_count": 2,
   "id": "f9b7d49d",
   "metadata": {},
   "outputs": [],
   "source": [
    "# Configure the client\n",
    "client = genai.Client()"
   ]
  },
  {
   "cell_type": "code",
   "execution_count": null,
   "id": "38a28c60",
   "metadata": {},
   "outputs": [],
   "source": [
    "# Define the search tool\n",
    "search_tool = types.Tool(\n",
    "    google_search=types.GoogleSearch()\n",
    ")"
   ]
  },
  {
   "cell_type": "code",
   "execution_count": null,
   "id": "c35d8186",
   "metadata": {},
   "outputs": [],
   "source": [
    "# Configure generation settings\n",
    "config = types.GenerateContentConfig(\n",
    "    tools=[search_tool]\n",
    ")"
   ]
  },
  {
   "cell_type": "code",
   "execution_count": 5,
   "id": "eef9ccd7",
   "metadata": {},
   "outputs": [],
   "source": [
    "# Make the request\n",
    "response = client.models.generate_content(\n",
    "    model=\"gemini-2.5-flash\",\n",
    "    contents=\"Which company had higher revenues in 2024? Uber or Lyft?\",\n",
    "    config=config,\n",
    ")"
   ]
  },
  {
   "cell_type": "code",
   "execution_count": null,
   "id": "756616b9",
   "metadata": {},
   "outputs": [],
   "source": [
    "def add_citations(response):\n",
    "    text = response.text\n",
    "    supports = response.candidates[0].grounding_metadata.grounding_supports\n",
    "    chunks = response.candidates[0].grounding_metadata.grounding_chunks\n",
    "\n",
    "    # Sort supports by end_index in descending order to avoid shifting issues when inserting.\n",
    "    sorted_supports = sorted(supports, key=lambda s: s.segment.end_index, reverse=True)\n",
    "\n",
    "    for support in sorted_supports:\n",
    "        end_index = support.segment.end_index\n",
    "        if support.grounding_chunk_indices:\n",
    "            # Create citation string like [1](link1)[2](link2)\n",
    "            citation_links = []\n",
    "            for i in support.grounding_chunk_indices:\n",
    "                if i < len(chunks):\n",
    "                    uri = chunks[i].web.uri\n",
    "                    citation_links.append(f\"[{i + 1}]({uri})\")\n",
    "\n",
    "            citation_string = \"\\n \".join(citation_links)\n",
    "            text = text[:end_index] + citation_string + text[end_index:]\n",
    "\n",
    "    return text\n",
    "\n",
    "# Assuming response with grounding metadata\n",
    "text_with_citations = add_citations(response)\n",
    "print(text_with_citations)"
   ]
  },
  {
   "cell_type": "code",
   "execution_count": null,
   "id": "cf105cd3",
   "metadata": {},
   "outputs": [],
   "source": []
  }
 ],
 "metadata": {
  "kernelspec": {
   "display_name": "reasoning (3.12.3)",
   "language": "python",
   "name": "python3"
  },
  "language_info": {
   "codemirror_mode": {
    "name": "ipython",
    "version": 3
   },
   "file_extension": ".py",
   "mimetype": "text/x-python",
   "name": "python",
   "nbconvert_exporter": "python",
   "pygments_lexer": "ipython3",
   "version": "3.12.3"
  }
 },
 "nbformat": 4,
 "nbformat_minor": 5
}
