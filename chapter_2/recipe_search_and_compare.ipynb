{
 "cells": [
  {
   "cell_type": "code",
   "execution_count": 1,
   "id": "b56c3019",
   "metadata": {},
   "outputs": [],
   "source": [
    "from google import genai\n",
    "from google.genai import types\n",
    "from google.genai.types import Tool, GenerateContentConfig"
   ]
  },
  {
   "cell_type": "code",
   "execution_count": 2,
   "id": "ba79a4db",
   "metadata": {},
   "outputs": [],
   "source": [
    "# Configure the client\n",
    "client = genai.Client()"
   ]
  },
  {
   "cell_type": "code",
   "execution_count": 3,
   "id": "ccda45c1",
   "metadata": {},
   "outputs": [],
   "source": [
    "search_tool = types.Tool(\n",
    "    google_search=types.GoogleSearch()\n",
    ")"
   ]
  },
  {
   "cell_type": "code",
   "execution_count": 4,
   "id": "103c9490",
   "metadata": {},
   "outputs": [],
   "source": [
    "tools = [\n",
    "      {\"url_context\": {}},\n",
    "        search_tool\n",
    "  ]"
   ]
  },
  {
   "cell_type": "code",
   "execution_count": 5,
   "id": "314fe571",
   "metadata": {},
   "outputs": [],
   "source": [
    "response = client.models.generate_content(\n",
    "    model=\"gemini-2.5-flash\",\n",
    "    contents=\"Use the search tool to find 3 recipes for fettuccine alfredo. Compare and contrast the required ingredients for the recipes and tell me which ingredients I need and which ones I may be able to substitute out.\",\n",
    "    config=GenerateContentConfig(\n",
    "        tools=tools\n",
    "    )\n",
    ")"
   ]
  },
  {
   "cell_type": "code",
   "execution_count": 6,
   "id": "43ca267f",
   "metadata": {},
   "outputs": [
    {
     "name": "stdout",
     "output_type": "stream",
     "text": [
      "Here's a comparison of three fettuccine alfredo recipes, highlighting essential and substitutable ingredients:\n",
      "\n",
      "**Recipe 1: The Pioneer Woman**\n",
      "*   **Ingredients:** 1 lb. fettuccine noodles, 1 stick butter, 1 cup heavy cream, salt and pepper (to taste), 2 cups freshly grated Parmesan cheese.\n",
      "\n",
      "**Recipe 2: Once Upon a Chef**\n",
      "*   **Ingredients:** 1 lb fettuccine, ½ cup (1 stick) unsalted butter, 2 cloves minced garlic, 1 cup heavy cream, ⅛ teaspoon salt, ¼ teaspoon freshly ground black pepper, pinch grated nutmeg, 1 cup grated Parmigiano Reggiano cheese.\n",
      "\n",
      "**Recipe 3: Delish**\n",
      "*   **Ingredients:** Kosher salt, 1 lb. fettuccine, 1/2 cup heavy cream, 1/2 cup (1 stick) butter, 1/2 cup freshly grated Parmesan (plus more for sprinkling), freshly ground black pepper, 2 Tbsp. chopped parsley.\n",
      "\n",
      "**Comparison of Required Ingredients:**\n",
      "\n",
      "All three recipes consistently call for the following core ingredients:\n",
      "*   **Fettuccine:** All recipes specify 1 pound of fettuccine noodles.\n",
      "*   **Butter:** Each recipe uses approximately 1 stick (½ cup) of butter. The Pioneer Woman suggests salted butter, while Once Upon a Chef specifies unsalted butter.\n",
      "*   **Heavy Cream:** The amount of heavy cream varies, with The Pioneer Woman and Once Upon a Chef using 1 cup, and Delish using 1/2 cup.\n",
      "*   **Parmesan Cheese:** All recipes emphasize using freshly grated Parmesan cheese. The quantity ranges from ½ cup (plus more for sprinkling) in Delish, to 1 cup in Once Upon a Chef, and 2 cups in The Pioneer Woman.\n",
      "*   **Salt and Pepper:** All recipes include salt and freshly ground black pepper for seasoning.\n",
      "\n",
      "**Ingredients You Need and Those You May Substitute:**\n",
      "\n",
      "**Required Ingredients (Core):**\n",
      "To make fettuccine alfredo, you will primarily need:\n",
      "1.  **Fettuccine noodles:** This is the base of the dish.\n",
      "2.  **Butter:** Essential for the sauce's richness.\n",
      "3.  **Heavy Cream:** Forms the creamy base of the sauce.\n",
      "4.  **Freshly Grated Parmesan Cheese:** Crucial for the flavor and texture of the alfredo sauce. Using freshly grated cheese is highly recommended as pre-grated varieties may not melt as smoothly.\n",
      "5.  **Salt and Pepper:** Necessary for seasoning the pasta water and the sauce to taste.\n",
      "\n",
      "**Substitutable/Optional Ingredients:**\n",
      "*   **Type of Butter:** While most recipes call for butter, the choice between salted and unsalted butter is largely a matter of preference. If you use salted butter, you may need to add less additional salt to the sauce.\n",
      "*   **Garlic:** Only the Once Upon a Chef recipe includes minced garlic. It's an optional addition that can enhance the flavor, but it is not traditionally part of the simplest Alfredo.\n",
      "*   **Nutmeg:** A pinch of grated nutmeg is suggested by Once Upon a Chef. This is an optional spice that can add a subtle warmth and depth to the sauce.\n",
      "*   **Parsley:** Delish suggests chopped parsley as a garnish. This is entirely optional and serves to add a fresh visual appeal and a hint of herbaceousness.\n",
      "*   **Quantity of Heavy Cream and Parmesan:** The amounts of heavy cream and Parmesan cheese can be adjusted based on your desired sauce consistency and cheesiness. You can use less heavy cream for a thicker sauce or more cheese for a stronger flavor.\n"
     ]
    }
   ],
   "source": [
    "for each in response.candidates[0].content.parts:\n",
    "    print(each.text)"
   ]
  },
  {
   "cell_type": "code",
   "execution_count": null,
   "id": "42a6f3b9",
   "metadata": {},
   "outputs": [],
   "source": []
  }
 ],
 "metadata": {
  "kernelspec": {
   "display_name": "reasoning",
   "language": "python",
   "name": "python3"
  },
  "language_info": {
   "codemirror_mode": {
    "name": "ipython",
    "version": 3
   },
   "file_extension": ".py",
   "mimetype": "text/x-python",
   "name": "python",
   "nbconvert_exporter": "python",
   "pygments_lexer": "ipython3",
   "version": "3.12.0"
  }
 },
 "nbformat": 4,
 "nbformat_minor": 5
}
