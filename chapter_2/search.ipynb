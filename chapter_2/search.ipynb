{
 "cells": [
  {
   "cell_type": "code",
   "execution_count": 1,
   "id": "5588ce99",
   "metadata": {},
   "outputs": [],
   "source": [
    "from google import genai\n",
    "from google.genai import types"
   ]
  },
  {
   "cell_type": "code",
   "execution_count": 2,
   "id": "f9b7d49d",
   "metadata": {},
   "outputs": [],
   "source": [
    "# Configure the client\n",
    "client = genai.Client()"
   ]
  },
  {
   "cell_type": "code",
   "execution_count": 3,
   "id": "38a28c60",
   "metadata": {},
   "outputs": [],
   "source": [
    "# Define the search tool\n",
    "search_tool = types.Tool(\n",
    "    google_search=types.GoogleSearch()\n",
    ")"
   ]
  },
  {
   "cell_type": "code",
   "execution_count": 4,
   "id": "c35d8186",
   "metadata": {},
   "outputs": [],
   "source": [
    "# Configure generation settings\n",
    "config = types.GenerateContentConfig(\n",
    "    tools=[search_tool]\n",
    ")"
   ]
  },
  {
   "cell_type": "code",
   "execution_count": 5,
   "id": "eef9ccd7",
   "metadata": {},
   "outputs": [],
   "source": [
    "# Make the request\n",
    "response = client.models.generate_content(\n",
    "    model=\"gemini-2.5-flash\",\n",
    "    contents=\"Which company had higher revenues in 2024? Uber or Lyft?\",\n",
    "    config=config,\n",
    ")"
   ]
  },
  {
   "cell_type": "code",
   "execution_count": 6,
   "id": "756616b9",
   "metadata": {},
   "outputs": [
    {
     "data": {
      "text/plain": [
       "\"In 2024, Uber had significantly higher revenues than Lyft. Uber Technologies reported an annual revenue of $43.98 billion for the fiscal year 2024. In contrast, Lyft generated $5.7 billion in revenue in 2024. This indicates that Uber's revenue was more than seven times that of Lyft's in 2024.\""
      ]
     },
     "execution_count": 6,
     "metadata": {},
     "output_type": "execute_result"
    }
   ],
   "source": [
    "response.text"
   ]
  },
  {
   "cell_type": "code",
   "execution_count": null,
   "id": "f49fcc7b",
   "metadata": {},
   "outputs": [],
   "source": []
  }
 ],
 "metadata": {
  "kernelspec": {
   "display_name": "reasoning",
   "language": "python",
   "name": "python3"
  },
  "language_info": {
   "codemirror_mode": {
    "name": "ipython",
    "version": 3
   },
   "file_extension": ".py",
   "mimetype": "text/x-python",
   "name": "python",
   "nbconvert_exporter": "python",
   "pygments_lexer": "ipython3",
   "version": "3.12.0"
  }
 },
 "nbformat": 4,
 "nbformat_minor": 5
}
