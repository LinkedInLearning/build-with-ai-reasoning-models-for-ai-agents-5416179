{
 "cells": [
  {
   "cell_type": "code",
   "execution_count": 1,
   "id": "96d734d0",
   "metadata": {},
   "outputs": [],
   "source": [
    "from google import genai\n",
    "from google.genai import types"
   ]
  },
  {
   "cell_type": "code",
   "execution_count": 2,
   "id": "85024253",
   "metadata": {},
   "outputs": [],
   "source": [
    "# Configure the client\n",
    "client = genai.Client()"
   ]
  },
  {
   "cell_type": "code",
   "execution_count": 3,
   "id": "094b90fd",
   "metadata": {},
   "outputs": [],
   "source": [
    "# Define the grounding tool\n",
    "grounding_tool = types.Tool(\n",
    "    google_search=types.GoogleSearch()\n",
    ")"
   ]
  },
  {
   "cell_type": "code",
   "execution_count": 4,
   "id": "7451d9db",
   "metadata": {},
   "outputs": [],
   "source": [
    "# Configure generation settings\n",
    "config = types.GenerateContentConfig(\n",
    "    tools=[grounding_tool]\n",
    ")"
   ]
  },
  {
   "cell_type": "code",
   "execution_count": 5,
   "id": "474f6582",
   "metadata": {},
   "outputs": [],
   "source": [
    "# Make the request\n",
    "response = client.models.generate_content(\n",
    "    model=\"gemini-2.5-flash\",\n",
    "    contents=\"Which company had higher revenues in 2024? Uber or Lyft?\",\n",
    "    config=config,\n",
    ")"
   ]
  },
  {
   "cell_type": "code",
   "execution_count": 6,
   "id": "615ad9b8",
   "metadata": {},
   "outputs": [
    {
     "name": "stdout",
     "output_type": "stream",
     "text": [
      "In 2024, Uber had significantly higher revenues than Lyft. Uber generated $43.9 billion in revenue, while Lyft's revenue for the same year was approximately $5.7 billion to $5.79 billion USD.\n"
     ]
    }
   ],
   "source": [
    "# Print the grounded response\n",
    "print(response.text)"
   ]
  },
  {
   "cell_type": "code",
   "execution_count": 20,
   "id": "6abdf507",
   "metadata": {},
   "outputs": [],
   "source": [
    "image_model_name = \"gemini-2.5-flash-image-preview\""
   ]
  },
  {
   "cell_type": "code",
   "execution_count": 21,
   "id": "67956f3b",
   "metadata": {},
   "outputs": [],
   "source": [
    "image_generated = client.models.generate_content(\n",
    "      model=image_model_name,\n",
    "      contents=[f\"Given the information in {response.text} generate a graph in the style of an excel chart.\"],\n",
    "  )"
   ]
  },
  {
   "cell_type": "code",
   "execution_count": null,
   "id": "6592b128",
   "metadata": {},
   "outputs": [
    {
     "name": "stdout",
     "output_type": "stream",
     "text": [
      "Here's an Excel-style chart comparing Uber and Lyft's 2024 revenues:\n",
      "\n",
      "\n"
     ]
    }
   ],
   "source": [
    "from PIL import Image\n",
    "from io import BytesIO\n",
    "for part in image_generated.candidates[0].content.parts:\n",
    "    if part.text is not None:\n",
    "        print(part.text)\n",
    "    elif part.inline_data is not None:\n",
    "        image = Image.open(BytesIO(part.inline_data.data))\n",
    "        image.save(\"chart.png\")"
   ]
  },
  {
   "cell_type": "code",
   "execution_count": null,
   "id": "07a9d038",
   "metadata": {},
   "outputs": [],
   "source": []
  }
 ],
 "metadata": {
  "kernelspec": {
   "display_name": "reasoning (3.12.3)",
   "language": "python",
   "name": "python3"
  },
  "language_info": {
   "codemirror_mode": {
    "name": "ipython",
    "version": 3
   },
   "file_extension": ".py",
   "mimetype": "text/x-python",
   "name": "python",
   "nbconvert_exporter": "python",
   "pygments_lexer": "ipython3",
   "version": "3.12.3"
  }
 },
 "nbformat": 4,
 "nbformat_minor": 5
}
