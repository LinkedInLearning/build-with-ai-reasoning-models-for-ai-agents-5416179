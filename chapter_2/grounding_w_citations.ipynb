{
 "cells": [
  {
   "cell_type": "code",
   "execution_count": 1,
   "id": "5588ce99",
   "metadata": {},
   "outputs": [],
   "source": [
    "from google import genai\n",
    "from google.genai import types"
   ]
  },
  {
   "cell_type": "code",
   "execution_count": 2,
   "id": "f9b7d49d",
   "metadata": {},
   "outputs": [],
   "source": [
    "# Configure the client\n",
    "client = genai.Client()"
   ]
  },
  {
   "cell_type": "code",
   "execution_count": 3,
   "id": "38a28c60",
   "metadata": {},
   "outputs": [],
   "source": [
    "# Define the grounding tool\n",
    "grounding_tool = types.Tool(\n",
    "    google_search=types.GoogleSearch()\n",
    ")"
   ]
  },
  {
   "cell_type": "code",
   "execution_count": 4,
   "id": "c35d8186",
   "metadata": {},
   "outputs": [],
   "source": [
    "# Configure generation settings\n",
    "config = types.GenerateContentConfig(\n",
    "    tools=[grounding_tool]\n",
    ")"
   ]
  },
  {
   "cell_type": "code",
   "execution_count": 5,
   "id": "eef9ccd7",
   "metadata": {},
   "outputs": [],
   "source": [
    "# Make the request\n",
    "response = client.models.generate_content(\n",
    "    model=\"gemini-2.5-flash\",\n",
    "    contents=\"Which company had higher revenues in 2024? Uber or Lyft?\",\n",
    "    config=config,\n",
    ")"
   ]
  },
  {
   "cell_type": "code",
   "execution_count": null,
   "id": "756616b9",
   "metadata": {},
   "outputs": [
    {
     "name": "stdout",
     "output_type": "stream",
     "text": [
      "In 2024, Uber had significantly higher revenues than Lyft. Uber generated $43.9 billion in revenue, an 18% increase year-on-year.[1](https://vertexaisearch.cloud.google.com/grounding-api-redirect/AUZIYQGs8v0zMKkMKWGQEyWEGtf1S1gMFgRc3BgjEKRKrEOfFX_XU4z4wUcERAgdjSVKixZXcTsd55jrYIze0CdOhV2c5801f7zTNj1JvEeEV7O44LhrM9wDsiedIzrZRJc3UZ_8JjE2t5J1F5EJWu2cwg==)\n",
      " [2](https://vertexaisearch.cloud.google.com/grounding-api-redirect/AUZIYQHSjlPBSSNmKHN01iWRZ_hEI4jhRqGwNy_ao0_QygfP30LS2d14Z39VBKIak5bXXPqu69yG_nOUguXLHIYoNa8zcjUMNOfD9fqaADJ0ijz7rzXAFGIGRejMPOVSDSGpaka3v2cIPY8PMvU6nk4H_9KDy8f_BlD2C-Mtr8CsKwVuki6t)\n",
      " [3](https://vertexaisearch.cloud.google.com/grounding-api-redirect/AUZIYQEBb3ahEdW3Hp6ceXxPcC766mTJTNytXC4t1HraDSFbS8xYnpHRjRpwsjxuXDmYZt5N0nSlowf-VLQK_R0xZi9IsNMoGDFvMnTalbBHjF4Mghy_QnZR5N6bqf7fAtubFUI7TUWsOtg=) In contrast, Lyft's revenue for 2024 was reported to be between $5.7 billion and $5.8 billion.[4](https://vertexaisearch.cloud.google.com/grounding-api-redirect/AUZIYQH7_5b5jlqQYMwk6YEueY7U2kYX0nj6WmP6z18Ym4jl_qxE4YzwGKOcTmfH074WLPvZQJTWSf8DWBb1Tl1-C6EvLcZsyJaFvp__xmqX8seqFmLOcrqqUKDkdRX3RJ_gniU1wr-PEzs=)\n",
      " [5](https://vertexaisearch.cloud.google.com/grounding-api-redirect/AUZIYQF6vw-xI0cNlV5ee0f5CTqXzmjJ4Sb1fpZblyUgEqknXYmfgFEN0SbOOO82jvGoTaAPEszXttdQAVtcIwC-9nesdwCEEvsabIyrP6Q151v0Om-jTJrcm6RueV1F9jCid3mHK0yHbcKqRwrFXIKWkVvX5Zp9F9o=)\n",
      " [6](https://vertexaisearch.cloud.google.com/grounding-api-redirect/AUZIYQH870iSQZEpWIL_JfHaWHU7TO0uI9m1Pyoi7UmiPu4d-F5cMwzPI1zkmbezMGi1EIieZkOLsAETePtSsAscleh_ZF0VLpKnchsEZ3Y4udz1zat-5ytQO4OLzzhhykV_KwdXbou6BmEwW5sClxNgYg==)\n",
      " [7](https://vertexaisearch.cloud.google.com/grounding-api-redirect/AUZIYQGZLtfmK9nH3xhJCVO1C9i-GEW7ERueGCOTHJL7WZOKMjwSe5uqI3SzbKdqgBl3r28CjzR1sdgnxgPfvFcf0j7VD16ah1NumEJrVz0wivEazI4brDchTEvTeWOBzrUufmHeSCVLBIpozRnrmXmn8ojvfudCDhw=)\n",
      "\n"
     ]
    }
   ],
   "source": [
    "def add_citations(response):\n",
    "    text = response.text\n",
    "    supports = response.candidates[0].grounding_metadata.grounding_supports\n",
    "    chunks = response.candidates[0].grounding_metadata.grounding_chunks\n",
    "\n",
    "    # Sort supports by end_index in descending order to avoid shifting issues when inserting.\n",
    "    sorted_supports = sorted(supports, key=lambda s: s.segment.end_index, reverse=True)\n",
    "\n",
    "    for support in sorted_supports:\n",
    "        end_index = support.segment.end_index\n",
    "        if support.grounding_chunk_indices:\n",
    "            # Create citation string like [1](link1)[2](link2)\n",
    "            citation_links = []\n",
    "            for i in support.grounding_chunk_indices:\n",
    "                if i < len(chunks):\n",
    "                    uri = chunks[i].web.uri\n",
    "                    citation_links.append(f\"[{i + 1}]({uri})\")\n",
    "\n",
    "            citation_string = \"\\n \".join(citation_links)\n",
    "            text = text[:end_index] + citation_string + text[end_index:]\n",
    "\n",
    "    return text\n",
    "\n",
    "# Assuming response with grounding metadata\n",
    "text_with_citations = add_citations(response)\n",
    "print(text_with_citations)"
   ]
  },
  {
   "cell_type": "code",
   "execution_count": null,
   "id": "cf105cd3",
   "metadata": {},
   "outputs": [],
   "source": []
  }
 ],
 "metadata": {
  "kernelspec": {
   "display_name": "reasoning (3.12.3)",
   "language": "python",
   "name": "python3"
  },
  "language_info": {
   "codemirror_mode": {
    "name": "ipython",
    "version": 3
   },
   "file_extension": ".py",
   "mimetype": "text/x-python",
   "name": "python",
   "nbconvert_exporter": "python",
   "pygments_lexer": "ipython3",
   "version": "3.12.3"
  }
 },
 "nbformat": 4,
 "nbformat_minor": 5
}
